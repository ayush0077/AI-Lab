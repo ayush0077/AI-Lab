{
  "nbformat": 4,
  "nbformat_minor": 0,
  "metadata": {
    "colab": {
      "provenance": [],
      "authorship_tag": "ABX9TyOehHWf77bQ5kkIbS6DN1ZY",
      "include_colab_link": true
    },
    "kernelspec": {
      "name": "python3",
      "display_name": "Python 3"
    },
    "language_info": {
      "name": "python"
    }
  },
  "cells": [
    {
      "cell_type": "markdown",
      "metadata": {
        "id": "view-in-github",
        "colab_type": "text"
      },
      "source": [
        "<a href=\"https://colab.research.google.com/github/aayushdangol16/AI-LAB/blob/main/ailab.ipynb\" target=\"_parent\"><img src=\"https://colab.research.google.com/assets/colab-badge.svg\" alt=\"Open In Colab\"/></a>"
      ]
    },
    {
      "cell_type": "markdown",
      "source": [
        "**Palindrome**"
      ],
      "metadata": {
        "id": "7nMbelX1zVN3"
      }
    },
    {
      "cell_type": "code",
      "source": [
        "def checkPalindrome(x):\n",
        "  x=str(x)\n",
        "  y=x[::-1]\n",
        "  if(x==y):\n",
        "    return True\n",
        "  else:\n",
        "    return False\n",
        "x=checkPalindrome(int(input(\"Enter Number:\")))\n",
        "if(x==True):\n",
        "  print(\"Palindrome\")\n",
        "else:\n",
        "  print(\"Not Palindome\")"
      ],
      "metadata": {
        "colab": {
          "base_uri": "https://localhost:8080/"
        },
        "id": "wSZ9VTLtzYaW",
        "outputId": "06603e30-265b-4205-8f63-d4c384069ab5"
      },
      "execution_count": null,
      "outputs": [
        {
          "output_type": "stream",
          "name": "stdout",
          "text": [
            "Enter Number:161\n",
            "Palindrome\n"
          ]
        }
      ]
    },
    {
      "cell_type": "markdown",
      "source": [
        " **Fibonacci sequence**"
      ],
      "metadata": {
        "id": "A9oKI07_22g-"
      }
    },
    {
      "cell_type": "code",
      "source": [
        "def fibonacci(x):\n",
        "    fib_sequence = [0, 1]\n",
        "\n",
        "    for i in range(2, x):\n",
        "        next_fib = fib_sequence[-1] + fib_sequence[-2]\n",
        "        fib_sequence.append(next_fib)\n",
        "\n",
        "    print(f\"Fibonacci sequence up to {x}:\", fib_sequence)\n",
        "\n",
        "fibonacci(int(input(\"Enter Number: \")))\n"
      ],
      "metadata": {
        "colab": {
          "base_uri": "https://localhost:8080/"
        },
        "id": "sLbiB-CH23wF",
        "outputId": "f82f368f-23ec-4e33-a73c-5ee875e237e0"
      },
      "execution_count": null,
      "outputs": [
        {
          "output_type": "stream",
          "name": "stdout",
          "text": [
            "Enter Number: 5\n",
            "Fibonacci sequence up to 5: [0, 1, 1, 2, 3]\n"
          ]
        }
      ]
    },
    {
      "cell_type": "markdown",
      "source": [
        "**Guessing game**"
      ],
      "metadata": {
        "id": "8o7lsYwg-UVn"
      }
    },
    {
      "cell_type": "code",
      "source": [
        "import random\n",
        "def rand():\n",
        "  a=random.randint(1,100)\n",
        "  return a\n",
        "def ask():\n",
        "  x=int(input(\"Guess Integer between 1-100: \"))\n",
        "  return x\n",
        "def game():\n",
        "  n=0\n",
        "  a=rand()\n",
        "  x=ask()\n",
        "  while(n==0):\n",
        "    if(a==x):\n",
        "      print(f\"you guess the correct number:{x}\")\n",
        "      n=1\n",
        "    elif(x<a):\n",
        "      if((a-x)>5):\n",
        "        print(\"you number to low\")\n",
        "        x=ask()\n",
        "      else:\n",
        "        print(\"you are close\")\n",
        "        x=ask()\n",
        "    elif(x>a):\n",
        "      if((x-a)>5):\n",
        "        print(\"you number to high\")\n",
        "        x=ask()\n",
        "      else:\n",
        "        print(\"you are close\")\n",
        "        x=ask()\n",
        "game()"
      ],
      "metadata": {
        "colab": {
          "base_uri": "https://localhost:8080/"
        },
        "id": "3z6oljxq4puv",
        "outputId": "9629a262-92a5-411a-c11c-4990466ae703"
      },
      "execution_count": 60,
      "outputs": [
        {
          "output_type": "stream",
          "name": "stdout",
          "text": [
            "Guess Integer between 1-100: 10\n",
            "you number to low\n",
            "Guess Integer between 1-100: 40\n",
            "you number to high\n",
            "Guess Integer between 1-100: 30\n",
            "you are close\n",
            "Guess Integer between 1-100: 20\n",
            "you number to low\n",
            "Guess Integer between 1-100: 40\n",
            "you number to high\n",
            "Guess Integer between 1-100: 25\n",
            "you are close\n",
            "Guess Integer between 1-100: 22\n",
            "you are close\n",
            "Guess Integer between 1-100: 20\n",
            "you number to low\n",
            "Guess Integer between 1-100: 24\n",
            "you are close\n",
            "Guess Integer between 1-100: 23\n",
            "you are close\n",
            "Guess Integer between 1-100: 26\n",
            "you are close\n",
            "Guess Integer between 1-100: 27\n",
            "you guess the correct number:27\n"
          ]
        }
      ]
    },
    {
      "cell_type": "markdown",
      "source": [
        "**Prime Number**"
      ],
      "metadata": {
        "id": "tAIwtOTT-axN"
      }
    },
    {
      "cell_type": "code",
      "source": [
        "def prime(x,y):\n",
        "  for i in range(x,y+1):\n",
        "    j=2\n",
        "    while(j<i):\n",
        "      if(i%j==0):\n",
        "        break\n",
        "      j=j+1\n",
        "    if(i==j):\n",
        "      print(i)\n",
        "prime(1,10)"
      ],
      "metadata": {
        "colab": {
          "base_uri": "https://localhost:8080/"
        },
        "id": "bKbjJl8c-ZG1",
        "outputId": "1b3d41b3-9162-496c-b5c0-b4bddeb3df09"
      },
      "execution_count": 61,
      "outputs": [
        {
          "output_type": "stream",
          "name": "stdout",
          "text": [
            "2\n",
            "3\n",
            "5\n",
            "7\n"
          ]
        }
      ]
    }
  ]
}